{
  "nbformat": 4,
  "nbformat_minor": 0,
  "metadata": {
    "colab": {
      "name": "comofod srm test.ipynb",
      "version": "0.3.2",
      "provenance": [],
      "collapsed_sections": []
    },
    "kernelspec": {
      "name": "python3",
      "display_name": "Python 3"
    },
    "accelerator": "GPU"
  },
  "cells": [
    {
      "cell_type": "code",
      "metadata": {
        "id": "f2UMIKa8pa7a",
        "colab_type": "code",
        "colab": {}
      },
      "source": [
        "from __future__ import absolute_import, division, print_function, unicode_literals\n",
        "import glob\n",
        "import os\n",
        "import shutil\n",
        "import cv2\n",
        "import matplotlib.pyplot as plt\n",
        "import numpy as np\n",
        "import tensorflow as tf\n",
        "from tensorflow.keras.preprocessing.image import ImageDataGenerator\n",
        "tf.logging.set_verbosity(tf.logging.ERROR)\n",
        "from tensorflow.python import keras\n",
        "from tensorflow.python.keras.models import Sequential\n",
        "from tensorflow.python.keras.layers import Dense,Conv3D,MaxPooling3D,Dropout,Flatten,LeakyReLU,BatchNormalization,Conv2D,MaxPooling2D\n",
        "import tqdm\n",
        "import tqdm.auto\n",
        "tqdm.tqdm = tqdm.auto.tqdm\n",
        "import zipfile\n"
      ],
      "execution_count": 0,
      "outputs": []
    },
    {
      "cell_type": "code",
      "metadata": {
        "id": "3FC2ATI0pfPR",
        "colab_type": "code",
        "colab": {}
      },
      "source": [
        "comofod='http://www.vcl.fer.hr/comofod/comofod_small.rar'\n",
        "zip_dir = tf.keras.utils.get_file('comofod_small.rar', origin=comofod)\n",
        "zip_dir_base = os.path.dirname(zip_dir)\n",
        "!pip install patool\n",
        "import patoolib\n",
        "os.chdir(zip_dir_base)\n",
        "patoolib.extract_archive(\"comofod_small.rar\", outdir=zip_dir_base)"
      ],
      "execution_count": 0,
      "outputs": []
    },
    {
      "cell_type": "code",
      "metadata": {
        "id": "1cnB16q-puxO",
        "colab_type": "code",
        "colab": {}
      },
      "source": [
        "auimg    = glob.glob(zip_dir_base + '/CoMoFoD_small_v2/*_O_*')\n",
        "auimg=auimg[4620:]#for 180 authentic\n",
        "#auimg=auimg[4260:] for 540 authentic\n",
        "jpeg     = glob.glob(zip_dir_base + '/CoMoFoD_small_v2/*F_JC*')\n",
        "jpeg=jpeg[1260:]#540 jpeg compressed images\n",
        "blur     = glob.glob(zip_dir_base + '/CoMoFoD_small_v2/*F_IB*')\n",
        "blur=blur[420:]#180 blurred images\n",
        "noise    = glob.glob(zip_dir_base + '/CoMoFoD_small_v2/*F_NA*')\n",
        "noise=noise[420:]\n",
        "bright   = glob.glob(zip_dir_base + '/CoMoFoD_small_v2/*F_BC*')\n",
        "bright=bright[420:]\n",
        "color    = glob.glob(zip_dir_base + '/CoMoFoD_small_v2/*F_CR*')\n",
        "color=color[420:]\n",
        "contrast = glob.glob(zip_dir_base + '/CoMoFoD_small_v2/*F_CA*')\n",
        "contrast=contrast[420:]\n",
        "print(len(auimg))\n",
        "print(len(jpeg))\n",
        "print(len(blur))\n"
      ],
      "execution_count": 0,
      "outputs": []
    },
    {
      "cell_type": "code",
      "metadata": {
        "id": "3NP2qhuH7sDn",
        "colab_type": "code",
        "colab": {}
      },
      "source": [
        "#Test1 for jpeg compressed\n",
        "test   = zip_dir_base + '/Test'\n",
        "os.makedirs(test)\n",
        "target = zip_dir_base + '/Test/Authentic'\n",
        "os.makedirs(target)\n",
        "target2=zip_dir_base + '/Test/Jpeg'\n",
        "os.makedirs(target2)\n",
        "\n",
        "for i in auimg:\n",
        "  shutil.move(i, target)\n",
        "  \n",
        "for i in jpeg:\n",
        "  shutil.move(i, target2)"
      ],
      "execution_count": 0,
      "outputs": []
    },
    {
      "cell_type": "code",
      "metadata": {
        "id": "pUCrs4uFskw6",
        "colab_type": "code",
        "colab": {}
      },
      "source": [
        "#Test2 for blurred after runtime reset\n",
        "test   = zip_dir_base + '/Test'\n",
        "os.makedirs(test)\n",
        "target = zip_dir_base + '/Test/Authentic'\n",
        "os.makedirs(target)\n",
        "target3=zip_dir_base + '/Test/Blur'\n",
        "os.makedirs(target3)\n",
        "\n",
        "for i in auimg:\n",
        "  shutil.move(i, target)\n",
        "  \n",
        "for i in blur:\n",
        "  shutil.move(i, target3)\n",
        "print(len(blur))"
      ],
      "execution_count": 0,
      "outputs": []
    },
    {
      "cell_type": "code",
      "metadata": {
        "id": "PrZQw5f6suAZ",
        "colab_type": "code",
        "colab": {}
      },
      "source": [
        "#Test3 for noise runtime reset not required henceforth\n",
        "shutil.rmtree(target3)\n",
        "target4=zip_dir_base + '/Test/Noise'\n",
        "os.makedirs(target4)\n",
        "\n",
        "for i in noise:\n",
        "  shutil.move(i, target4)\n",
        "print(len(noise))"
      ],
      "execution_count": 0,
      "outputs": []
    },
    {
      "cell_type": "code",
      "metadata": {
        "id": "6TA7_1Kgsz8S",
        "colab_type": "code",
        "colab": {}
      },
      "source": [
        "#Test4 for brightness change\n",
        "shutil.rmtree(target4)\n",
        "target5=zip_dir_base + '/Test/Bright'\n",
        "os.makedirs(target5)\n",
        "\n",
        "for i in bright:\n",
        "  shutil.move(i, target5)\n",
        "print(len(bright))"
      ],
      "execution_count": 0,
      "outputs": []
    },
    {
      "cell_type": "code",
      "metadata": {
        "id": "MbhiEVqrs5o4",
        "colab_type": "code",
        "colab": {}
      },
      "source": [
        "#Test5 for color reduction\n",
        "shutil.rmtree(target5)\n",
        "target6=zip_dir_base + '/Test/Color'\n",
        "os.makedirs(target6)\n",
        "\n",
        "for i in color:\n",
        "  shutil.move(i, target6)\n",
        "print(len(color))"
      ],
      "execution_count": 0,
      "outputs": []
    },
    {
      "cell_type": "code",
      "metadata": {
        "id": "iihwHnbms9-n",
        "colab_type": "code",
        "colab": {}
      },
      "source": [
        "#Test6 for contrast adjustment\n",
        "shutil.rmtree(target6)\n",
        "target7=zip_dir_base + '/Test/Contrast'\n",
        "os.makedirs(target7)\n",
        "\n",
        "for i in contrast:\n",
        "  shutil.move(i, target7)\n",
        "print(len(contrast))"
      ],
      "execution_count": 0,
      "outputs": []
    },
    {
      "cell_type": "code",
      "metadata": {
        "id": "eikkB72Ltm5X",
        "colab_type": "code",
        "colab": {}
      },
      "source": [
        "#to be run for all tests\n",
        "test_dir = os.path.join(zip_dir_base, 'Test')\n",
        "\n",
        "def mfr(im):\n",
        "\n",
        "  \n",
        "  medi=cv2.medianBlur(im,5)\n",
        "  medi2=cv2.medianBlur(medi,5)\n",
        "  medi=cv2.subtract(medi2, medi)\n",
        "  medi=medi[..., np.newaxis]\n",
        "  \n",
        "  avg = cv2.blur(im,(5,5))\n",
        "  avg = cv2.subtract(avg,im)\n",
        "  avg = avg[..., np.newaxis]\n",
        "  \n",
        "  k=np.array([[0,0,0,0,0], [0,-1,2,-1,0], [0,2,-4,2,0], [0,-1,2,-1,0], [0,0,0,0,0]], np.int32)\n",
        "  k1=k/4\n",
        "  srm1=cv2.filter2D(im, -1, k1)\n",
        "  srm1 = srm1[...,np.newaxis]\n",
        "  \n",
        "  k=np.array([[-1,2,-2,2,-1], [2,-6,8,-6,2], [-2,8,-12,8,-2], [2,-6,8,-6,2], [-1,2,-2,2,-1]], np.int32)\n",
        "  k2=k/12\n",
        "  srm2=cv2.filter2D(im, -1, k2)\n",
        "  srm2 = srm2[...,np.newaxis]\n",
        "  \n",
        "  k=np.array([[0,0,0,0,0], [0,0,0,0,0], [0,1,-2,1,0], [0,0,0,0,0], [0,0,0,0,0]], np.int32)\n",
        "  k3=k/2\n",
        "  srm3=cv2.filter2D(im, -1, k3)\n",
        "  srm3=srm3[...,np.newaxis]\n",
        "  \n",
        "  imge=np.concatenate((medi,avg), axis=2)\n",
        "  imge=np.concatenate((imge,srm1), axis=2)\n",
        "  imge=np.concatenate((imge,srm2), axis=2)\n",
        "  imge=np.concatenate((imge,srm3), axis=2)\n",
        "  \n",
        "  imge=imge[..., np.newaxis]\n",
        "  return imge\n",
        "\n",
        "test_image_generator = ImageDataGenerator(preprocessing_function=mfr,\n",
        "                                          featurewise_center=True,\n",
        "                                          featurewise_std_normalization=True)#rescale=1./255,\n",
        "test_batches = test_image_generator.flow_from_directory( shuffle=False,\n",
        "                                                         directory=test_dir, \n",
        "                                                         target_size=(128,128,5),\n",
        "                                                         class_mode='binary',\n",
        "                                                         color_mode='grayscale')"
      ],
      "execution_count": 0,
      "outputs": []
    },
    {
      "cell_type": "code",
      "metadata": {
        "id": "Fi67hSdkuzbX",
        "colab_type": "code",
        "colab": {}
      },
      "source": [
        "#model architecture\n",
        "ini=tf.contrib.layers.variance_scaling_initializer(factor=2.0, mode='FAN_IN', uniform=False)\n",
        "\n",
        "model=Sequential()\n",
        "model.add(Conv3D(64,(1,1,5), strides=1,  activation='relu', input_shape=(128,128,5,1)))\n",
        "model.add(BatchNormalization())\n",
        "#model.add(MaxPooling2D((3,3), strides=2, padding='same'))\n",
        "\n",
        "model.add(Conv3D(64,(3,3,1),padding='same', activation='relu'))\n",
        "model.add(BatchNormalization())\n",
        "#model.add(LeakyReLU())\n",
        "model.add(MaxPooling3D((3,3,1),padding='same', strides=2))\n",
        "\n",
        "model.add(Conv3D(128,(3,3,1),padding='same', activation='relu'))\n",
        "model.add(BatchNormalization())\n",
        "model.add(MaxPooling3D((3,3,1),padding='same', strides=2))\n",
        "\n",
        "#model.add(LeakyReLU())\n",
        "model.add(Conv3D(256,(3,3,1),padding='same', activation='relu' ))\n",
        "model.add(BatchNormalization())\n",
        "model.add(MaxPooling3D((3,3,1),padding='same', strides=2))\n",
        "#model.add(LeakyReLU())\n",
        "\n",
        "model.add(Conv3D(256,(3,3,1),padding='same', activation='relu'))\n",
        "model.add(BatchNormalization())\n",
        "#model.add(LeakyReLU())\n",
        "model.add(MaxPooling3D((3,3,1),padding='same', strides=2))\n",
        "\n",
        "model.add(Conv3D(512,(3,3,1),padding='same', activation='relu'))\n",
        "model.add(BatchNormalization())\n",
        "#model.add(LeakyReLU())\n",
        "model.add(MaxPooling3D((3,3,1),padding='same', strides=2))\n",
        "\n",
        "model.add(Flatten())\n",
        "\n",
        "model.add(Dropout(0.5))\n",
        "model.add(Dense(2048, kernel_initializer=ini, kernel_regularizer=tf.contrib.layers.l2_regularizer(0.001), activation='relu'))\n",
        "\n",
        "#model.add(Dropout(0.5))\n",
        "#model.add(Dense(2048, kernel_initializer=ini, kernel_regularizer=tf.contrib.layers.l2_regularizer(0.001), activation='relu'))\n",
        "\n",
        "#model.add(Dropout(0.5))\n",
        "#model.add(Dense(2048, kernel_initializer=ini, kernel_regularizer=tf.contrib.layers.l2_regularizer(0.001), activation='relu'))\n",
        "\n",
        "model.add(Dropout(0.5))\n",
        "model.add(Dense(2048, kernel_initializer=ini, kernel_regularizer=tf.contrib.layers.l2_regularizer(0.001), activation='relu'))\n",
        "\n",
        "model.add(Dense(2, activation='softmax'))"
      ],
      "execution_count": 0,
      "outputs": []
    },
    {
      "cell_type": "code",
      "metadata": {
        "id": "ye0jUg8P3zos",
        "colab_type": "code",
        "colab": {}
      },
      "source": [
        "#model compile and weights adding\n",
        "from google.colab import drive\n",
        "drive.mount('/content/drive')\n",
        "\n",
        "\n",
        "\n",
        "model.compile(loss='sparse_categorical_crossentropy',\n",
        "              optimizer='adam',\n",
        "              metrics=['accuracy'])\n",
        "\n",
        "model.load_weights('trained_model_weights')"
      ],
      "execution_count": 0,
      "outputs": []
    },
    {
      "cell_type": "code",
      "metadata": {
        "id": "wOTkfPOS4FrO",
        "colab_type": "code",
        "colab": {}
      },
      "source": [
        "print(model.evaluate_generator(test_batches))# for accuracy\n",
        "y_pred= np.argmax(model.predict_generator(test_batches), axis=1)\n",
        "labels= test_batches.labels\n"
      ],
      "execution_count": 0,
      "outputs": []
    },
    {
      "cell_type": "code",
      "metadata": {
        "id": "qte9VCCzztVp",
        "colab_type": "code",
        "colab": {}
      },
      "source": [
        "#for precision,recall and f1\n",
        "from sklearn.metrics import precision_score, recall_score\n",
        "precision = precision_score(list(labels), list(y_pred), pos_label=1, average='binary')\n",
        "recall    = recall_score(list(labels), list(y_pred), pos_label=1, average='binary')\n",
        "f1        = 2*recall*precision/(recall+precision)\n",
        "print(precision)\n",
        "print(recall)\n",
        "print(f1)"
      ],
      "execution_count": 0,
      "outputs": []
    }
  ]
}
